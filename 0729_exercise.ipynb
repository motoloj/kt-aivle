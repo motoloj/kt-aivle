{
 "cells": [
  {
   "cell_type": "code",
   "execution_count": null,
   "metadata": {},
   "outputs": [],
   "source": [
    "# Q0 Answer template\n",
    "\n",
    "N, X = map(int, input().split())  # N, X 를 입력받음\n",
    "\n",
    "data = list(map(int, input().split())) # 리스트를 입력받음\n",
    "answer = []\n",
    "for i in data:\n",
    "    if i < X :\n",
    "        answer.append(i)\n",
    "print(*answer)"
   ]
  },
  {
   "cell_type": "code",
   "execution_count": null,
   "metadata": {},
   "outputs": [],
   "source": [
    "# Q1 Answer template\n",
    "\n",
    "def solution(lottos, win_nums):\n",
    "    sort_lotto = sorted(lottos)\n",
    "    sort_win = sorted(win_nums)\n",
    "    count = 0\n",
    "    rank = [6,6,5,4,3,2,1]\n",
    "    \n",
    "   # 0의 개수 카운트\n",
    "    zero_num = sort_lotto.count(0)\n",
    "    # 맞춘 숫자 카운트\n",
    "    for i in sort_win:\n",
    "        if i in sort_lotto:\n",
    "            count += 1\n",
    "    max_ans = zero_num + count\n",
    "    min_ans = count\n",
    "    return [rank[max_ans], rank[min_ans]]\n",
    "\n",
    "lottos = [44, 1, 0, 0, 31, 25]\n",
    "win_nums = [31, 10, 45, 1, 6, 19]\n",
    "answer = solution(lottos, win_nums)\n",
    "print(answer)"
   ]
  },
  {
   "cell_type": "code",
   "execution_count": null,
   "metadata": {},
   "outputs": [],
   "source": [
    "# Q2 Answer template\n",
    "\n",
    "def solution(numbers):\n",
    "    answer = sum(range(1,10)) - sum(numbers)\n",
    "    return answer\n",
    "\n",
    "numbers = [1,2,3,4,6,7,8,0]\n",
    "answer = solution(numbers)\n",
    "print(answer)"
   ]
  },
  {
   "cell_type": "code",
   "execution_count": null,
   "metadata": {},
   "outputs": [],
   "source": [
    "# Q3 answer template\n",
    "\n",
    "def solution(store, customer):\n",
    "    answer = []\n",
    "    for i in customer:\n",
    "        if i in store:\n",
    "            answer.append('yes')\n",
    "        else:\n",
    "            answer.append('no')\n",
    "    return answer\n",
    "\n",
    "store = [2,3,7,8,9]\n",
    "customer = [7,5,9]\n",
    "answer = solution(store, customer)\n",
    "print(answer)"
   ]
  }
 ],
 "metadata": {
  "kernelspec": {
   "display_name": "Python 3.9.13 64-bit",
   "language": "python",
   "name": "python3"
  },
  "language_info": {
   "name": "python",
   "version": "3.9.13"
  },
  "orig_nbformat": 4,
  "vscode": {
   "interpreter": {
    "hash": "cf92aa13fedf815d5c8dd192b8d835913fde3e8bc926b2a0ad6cc74ef2ba3ca2"
   }
  }
 },
 "nbformat": 4,
 "nbformat_minor": 2
}
